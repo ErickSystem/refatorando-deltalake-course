{
 "cells": [
  {
   "cell_type": "code",
   "execution_count": 1,
   "id": "baab0af0-0fed-483c-902d-7922387acb6b",
   "metadata": {},
   "outputs": [
    {
     "name": "stdout",
     "output_type": "stream",
     "text": [
      "Requirement already satisfied: minio in /opt/conda/lib/python3.11/site-packages (7.2.9)\n",
      "Requirement already satisfied: delta-spark in /opt/conda/lib/python3.11/site-packages (3.2.1)\n",
      "Requirement already satisfied: certifi in /opt/conda/lib/python3.11/site-packages (from minio) (2023.7.22)\n",
      "Requirement already satisfied: urllib3 in /opt/conda/lib/python3.11/site-packages (from minio) (2.0.4)\n",
      "Requirement already satisfied: argon2-cffi in /opt/conda/lib/python3.11/site-packages (from minio) (23.1.0)\n",
      "Requirement already satisfied: pycryptodome in /opt/conda/lib/python3.11/site-packages (from minio) (3.21.0)\n",
      "Requirement already satisfied: typing-extensions in /opt/conda/lib/python3.11/site-packages (from minio) (4.7.1)\n",
      "Collecting pyspark<3.6.0,>=3.5.3 (from delta-spark)\n",
      "  Using cached pyspark-3.5.3-py2.py3-none-any.whl\n",
      "Requirement already satisfied: importlib-metadata>=1.0.0 in /opt/conda/lib/python3.11/site-packages (from delta-spark) (6.8.0)\n",
      "Requirement already satisfied: zipp>=0.5 in /opt/conda/lib/python3.11/site-packages (from importlib-metadata>=1.0.0->delta-spark) (3.16.2)\n",
      "Requirement already satisfied: py4j==0.10.9.7 in /opt/conda/lib/python3.11/site-packages (from pyspark<3.6.0,>=3.5.3->delta-spark) (0.10.9.7)\n",
      "Requirement already satisfied: argon2-cffi-bindings in /opt/conda/lib/python3.11/site-packages (from argon2-cffi->minio) (21.2.0)\n",
      "Requirement already satisfied: cffi>=1.0.1 in /opt/conda/lib/python3.11/site-packages (from argon2-cffi-bindings->argon2-cffi->minio) (1.15.1)\n",
      "Requirement already satisfied: pycparser in /opt/conda/lib/python3.11/site-packages (from cffi>=1.0.1->argon2-cffi-bindings->argon2-cffi->minio) (2.21)\n",
      "Installing collected packages: pyspark\n",
      "  Attempting uninstall: pyspark\n",
      "    Found existing installation: pyspark 3.4.1\n",
      "    Can't uninstall 'pyspark'. No files were found to uninstall.\n",
      "Successfully installed pyspark-3.5.3\n"
     ]
    }
   ],
   "source": [
    "!pip install minio delta-spark"
   ]
  },
  {
   "cell_type": "code",
   "execution_count": 2,
   "id": "4d35230a-0af2-4e91-8a36-71d856ec09d6",
   "metadata": {},
   "outputs": [],
   "source": [
    "from minio import Minio\n",
    "from pyspark.sql import SparkSession\n",
    "from pyspark.sql.functions import current_date, date_format\n",
    "from delta.tables import *\n",
    "\n",
    "MINIO_ACCESS_KEY = \"PcgZbNx45AVgJG7mFksV\"\n",
    "MINIO_SECRET_KEY = \"MaWaeV659ur8MoTJukMlxe5tXK6cch5yVMLJ2Cuy\""
   ]
  },
  {
   "cell_type": "code",
   "execution_count": 3,
   "id": "058090de-0a55-472f-9ca6-815a7c9fd59d",
   "metadata": {},
   "outputs": [],
   "source": [
    "spark = SparkSession.builder.master(\"spark://spark-master:7077\") \\\n",
    "    .appName(\"MyAppMinio\") \\\n",
    "    .config(\"spark.eventLog.enabled\", \"true\") \\\n",
    "    .config(\"spark.eventLog.dir\", \"file:/home/jovyan/work/spark-logs\") \\\n",
    "    .config(\"spark.history.fs.logDirectory\", \"file:/home/jovyan/work/spark-logs\") \\\n",
    "    .config(\"spark.serializer\", \"org.apache.spark.serializer.KryoSerializer\") \\\n",
    "    .config(\"log4j.rootCategory\", \"INFO, console\") \\\n",
    "    .config(\"spark.jars.packages\", \"org.apache.hadoop:hadoop-aws:3.3.4,io.delta:delta-core_2.12:2.4.0\") \\\n",
    "    .config(\"spark.sql.extensions\", \"io.delta.sql.DeltaSparkSessionExtension\") \\\n",
    "    .config(\"spark.sql.catalog.spark_catalog\", \"org.apache.spark.sql.delta.catalog.DeltaCatalog\") \\\n",
    "    .getOrCreate()"
   ]
  },
  {
   "cell_type": "code",
   "execution_count": 4,
   "id": "323310a7-d172-480f-9263-77e37ea44334",
   "metadata": {},
   "outputs": [
    {
     "data": {
      "text/html": [
       "\n",
       "            <div>\n",
       "                <p><b>SparkSession - in-memory</b></p>\n",
       "                \n",
       "        <div>\n",
       "            <p><b>SparkContext</b></p>\n",
       "\n",
       "            <p><a href=\"http://f11526fd661e:4040\">Spark UI</a></p>\n",
       "\n",
       "            <dl>\n",
       "              <dt>Version</dt>\n",
       "                <dd><code>v3.4.1</code></dd>\n",
       "              <dt>Master</dt>\n",
       "                <dd><code>spark://spark-master:7077</code></dd>\n",
       "              <dt>AppName</dt>\n",
       "                <dd><code>MyAppMinio</code></dd>\n",
       "            </dl>\n",
       "        </div>\n",
       "        \n",
       "            </div>\n",
       "        "
      ],
      "text/plain": [
       "<pyspark.sql.session.SparkSession at 0xffff93f94550>"
      ]
     },
     "execution_count": 4,
     "metadata": {},
     "output_type": "execute_result"
    }
   ],
   "source": [
    "spark"
   ]
  },
  {
   "cell_type": "code",
   "execution_count": 5,
   "id": "7ff371f9-36a5-4e5c-8218-d9be147fdda0",
   "metadata": {},
   "outputs": [
    {
     "name": "stdout",
     "output_type": "stream",
     "text": [
      "[('spark.eventLog.enabled', 'true'), ('spark.files', 'file:///home/jovyan/.ivy2/jars/org.apache.hadoop_hadoop-aws-3.3.4.jar,file:///home/jovyan/.ivy2/jars/io.delta_delta-core_2.12-2.4.0.jar,file:///home/jovyan/.ivy2/jars/com.amazonaws_aws-java-sdk-bundle-1.12.262.jar,file:///home/jovyan/.ivy2/jars/org.wildfly.openssl_wildfly-openssl-1.0.7.Final.jar,file:///home/jovyan/.ivy2/jars/io.delta_delta-storage-2.4.0.jar,file:///home/jovyan/.ivy2/jars/org.antlr_antlr4-runtime-4.9.3.jar'), ('spark.jars', 'file:///home/jovyan/.ivy2/jars/org.apache.hadoop_hadoop-aws-3.3.4.jar,file:///home/jovyan/.ivy2/jars/io.delta_delta-core_2.12-2.4.0.jar,file:///home/jovyan/.ivy2/jars/com.amazonaws_aws-java-sdk-bundle-1.12.262.jar,file:///home/jovyan/.ivy2/jars/org.wildfly.openssl_wildfly-openssl-1.0.7.Final.jar,file:///home/jovyan/.ivy2/jars/io.delta_delta-storage-2.4.0.jar,file:///home/jovyan/.ivy2/jars/org.antlr_antlr4-runtime-4.9.3.jar'), ('spark.driver.port', '43603'), ('spark.app.id', 'app-20241020144831-0001'), ('spark.eventLog.dir', 'file:/home/jovyan/work/spark-logs'), ('spark.app.initial.file.urls', 'spark://f11526fd661e:43603/files/io.delta_delta-storage-2.4.0.jar,spark://f11526fd661e:43603/files/io.delta_delta-core_2.12-2.4.0.jar,spark://f11526fd661e:43603/files/org.wildfly.openssl_wildfly-openssl-1.0.7.Final.jar,spark://f11526fd661e:43603/files/org.apache.hadoop_hadoop-aws-3.3.4.jar,spark://f11526fd661e:43603/files/org.antlr_antlr4-runtime-4.9.3.jar,spark://f11526fd661e:43603/files/com.amazonaws_aws-java-sdk-bundle-1.12.262.jar'), ('spark.driver.extraJavaOptions', '-Djava.net.preferIPv6Addresses=false -XX:+IgnoreUnrecognizedVMOptions --add-opens=java.base/java.lang=ALL-UNNAMED --add-opens=java.base/java.lang.invoke=ALL-UNNAMED --add-opens=java.base/java.lang.reflect=ALL-UNNAMED --add-opens=java.base/java.io=ALL-UNNAMED --add-opens=java.base/java.net=ALL-UNNAMED --add-opens=java.base/java.nio=ALL-UNNAMED --add-opens=java.base/java.util=ALL-UNNAMED --add-opens=java.base/java.util.concurrent=ALL-UNNAMED --add-opens=java.base/java.util.concurrent.atomic=ALL-UNNAMED --add-opens=java.base/sun.nio.ch=ALL-UNNAMED --add-opens=java.base/sun.nio.cs=ALL-UNNAMED --add-opens=java.base/sun.security.action=ALL-UNNAMED --add-opens=java.base/sun.util.calendar=ALL-UNNAMED --add-opens=java.security.jgss/sun.security.krb5=ALL-UNNAMED -Djdk.reflect.useDirectMethodHandle=false'), ('spark.serializer', 'org.apache.spark.serializer.KryoSerializer'), ('spark.history.fs.logDirectory', 'file:/home/jovyan/work/spark-logs'), ('spark.app.startTime', '1729435710016'), ('spark.driver.host', 'f11526fd661e'), ('spark.master', 'spark://spark-master:7077'), ('spark.serializer.objectStreamReset', '100'), ('spark.app.initial.jar.urls', 'spark://f11526fd661e:43603/jars/com.amazonaws_aws-java-sdk-bundle-1.12.262.jar,spark://f11526fd661e:43603/jars/org.apache.hadoop_hadoop-aws-3.3.4.jar,spark://f11526fd661e:43603/jars/io.delta_delta-core_2.12-2.4.0.jar,spark://f11526fd661e:43603/jars/org.antlr_antlr4-runtime-4.9.3.jar,spark://f11526fd661e:43603/jars/org.wildfly.openssl_wildfly-openssl-1.0.7.Final.jar,spark://f11526fd661e:43603/jars/io.delta_delta-storage-2.4.0.jar'), ('spark.app.name', 'MyAppMinio'), ('spark.submit.deployMode', 'client'), ('spark.sql.warehouse.dir', 'file:/home/jovyan/work/spark-warehouse'), ('spark.app.submitTime', '1729435709842'), ('spark.executor.extraJavaOptions', '-Djava.net.preferIPv6Addresses=false -XX:+IgnoreUnrecognizedVMOptions --add-opens=java.base/java.lang=ALL-UNNAMED --add-opens=java.base/java.lang.invoke=ALL-UNNAMED --add-opens=java.base/java.lang.reflect=ALL-UNNAMED --add-opens=java.base/java.io=ALL-UNNAMED --add-opens=java.base/java.net=ALL-UNNAMED --add-opens=java.base/java.nio=ALL-UNNAMED --add-opens=java.base/java.util=ALL-UNNAMED --add-opens=java.base/java.util.concurrent=ALL-UNNAMED --add-opens=java.base/java.util.concurrent.atomic=ALL-UNNAMED --add-opens=java.base/sun.nio.ch=ALL-UNNAMED --add-opens=java.base/sun.nio.cs=ALL-UNNAMED --add-opens=java.base/sun.security.action=ALL-UNNAMED --add-opens=java.base/sun.util.calendar=ALL-UNNAMED --add-opens=java.security.jgss/sun.security.krb5=ALL-UNNAMED -Djdk.reflect.useDirectMethodHandle=false'), ('spark.executor.id', 'driver'), ('spark.submit.pyFiles', '/home/jovyan/.ivy2/jars/org.apache.hadoop_hadoop-aws-3.3.4.jar,/home/jovyan/.ivy2/jars/io.delta_delta-core_2.12-2.4.0.jar,/home/jovyan/.ivy2/jars/com.amazonaws_aws-java-sdk-bundle-1.12.262.jar,/home/jovyan/.ivy2/jars/org.wildfly.openssl_wildfly-openssl-1.0.7.Final.jar,/home/jovyan/.ivy2/jars/io.delta_delta-storage-2.4.0.jar,/home/jovyan/.ivy2/jars/org.antlr_antlr4-runtime-4.9.3.jar'), ('log4j.rootCategory', 'INFO, console'), ('spark.sql.extensions', 'io.delta.sql.DeltaSparkSessionExtension'), ('spark.jars.packages', 'org.apache.hadoop:hadoop-aws:3.3.4,io.delta:delta-core_2.12:2.4.0'), ('spark.rdd.compress', 'True'), ('spark.repl.local.jars', 'file:///home/jovyan/.ivy2/jars/org.apache.hadoop_hadoop-aws-3.3.4.jar,file:///home/jovyan/.ivy2/jars/io.delta_delta-core_2.12-2.4.0.jar,file:///home/jovyan/.ivy2/jars/com.amazonaws_aws-java-sdk-bundle-1.12.262.jar,file:///home/jovyan/.ivy2/jars/org.wildfly.openssl_wildfly-openssl-1.0.7.Final.jar,file:///home/jovyan/.ivy2/jars/io.delta_delta-storage-2.4.0.jar,file:///home/jovyan/.ivy2/jars/org.antlr_antlr4-runtime-4.9.3.jar'), ('spark.ui.showConsoleProgress', 'true'), ('spark.sql.catalog.spark_catalog', 'org.apache.spark.sql.delta.catalog.DeltaCatalog')]\n"
     ]
    }
   ],
   "source": [
    "print(spark.sparkContext.getConf().getAll())"
   ]
  },
  {
   "cell_type": "code",
   "execution_count": 6,
   "id": "91771e69-4646-4653-863a-6fb0fd6ee276",
   "metadata": {
    "scrolled": true
   },
   "outputs": [
    {
     "data": {
      "text/plain": [
       "[('spark.eventLog.enabled', 'true'),\n",
       " ('spark.files',\n",
       "  'file:///home/jovyan/.ivy2/jars/org.apache.hadoop_hadoop-aws-3.3.4.jar,file:///home/jovyan/.ivy2/jars/io.delta_delta-core_2.12-2.4.0.jar,file:///home/jovyan/.ivy2/jars/com.amazonaws_aws-java-sdk-bundle-1.12.262.jar,file:///home/jovyan/.ivy2/jars/org.wildfly.openssl_wildfly-openssl-1.0.7.Final.jar,file:///home/jovyan/.ivy2/jars/io.delta_delta-storage-2.4.0.jar,file:///home/jovyan/.ivy2/jars/org.antlr_antlr4-runtime-4.9.3.jar'),\n",
       " ('spark.jars',\n",
       "  'file:///home/jovyan/.ivy2/jars/org.apache.hadoop_hadoop-aws-3.3.4.jar,file:///home/jovyan/.ivy2/jars/io.delta_delta-core_2.12-2.4.0.jar,file:///home/jovyan/.ivy2/jars/com.amazonaws_aws-java-sdk-bundle-1.12.262.jar,file:///home/jovyan/.ivy2/jars/org.wildfly.openssl_wildfly-openssl-1.0.7.Final.jar,file:///home/jovyan/.ivy2/jars/io.delta_delta-storage-2.4.0.jar,file:///home/jovyan/.ivy2/jars/org.antlr_antlr4-runtime-4.9.3.jar'),\n",
       " ('spark.driver.port', '43603'),\n",
       " ('spark.app.id', 'app-20241020144831-0001'),\n",
       " ('spark.eventLog.dir', 'file:/home/jovyan/work/spark-logs'),\n",
       " ('spark.app.initial.file.urls',\n",
       "  'spark://f11526fd661e:43603/files/io.delta_delta-storage-2.4.0.jar,spark://f11526fd661e:43603/files/io.delta_delta-core_2.12-2.4.0.jar,spark://f11526fd661e:43603/files/org.wildfly.openssl_wildfly-openssl-1.0.7.Final.jar,spark://f11526fd661e:43603/files/org.apache.hadoop_hadoop-aws-3.3.4.jar,spark://f11526fd661e:43603/files/org.antlr_antlr4-runtime-4.9.3.jar,spark://f11526fd661e:43603/files/com.amazonaws_aws-java-sdk-bundle-1.12.262.jar'),\n",
       " ('spark.driver.extraJavaOptions',\n",
       "  '-Djava.net.preferIPv6Addresses=false -XX:+IgnoreUnrecognizedVMOptions --add-opens=java.base/java.lang=ALL-UNNAMED --add-opens=java.base/java.lang.invoke=ALL-UNNAMED --add-opens=java.base/java.lang.reflect=ALL-UNNAMED --add-opens=java.base/java.io=ALL-UNNAMED --add-opens=java.base/java.net=ALL-UNNAMED --add-opens=java.base/java.nio=ALL-UNNAMED --add-opens=java.base/java.util=ALL-UNNAMED --add-opens=java.base/java.util.concurrent=ALL-UNNAMED --add-opens=java.base/java.util.concurrent.atomic=ALL-UNNAMED --add-opens=java.base/sun.nio.ch=ALL-UNNAMED --add-opens=java.base/sun.nio.cs=ALL-UNNAMED --add-opens=java.base/sun.security.action=ALL-UNNAMED --add-opens=java.base/sun.util.calendar=ALL-UNNAMED --add-opens=java.security.jgss/sun.security.krb5=ALL-UNNAMED -Djdk.reflect.useDirectMethodHandle=false'),\n",
       " ('spark.serializer', 'org.apache.spark.serializer.KryoSerializer'),\n",
       " ('spark.history.fs.logDirectory', 'file:/home/jovyan/work/spark-logs'),\n",
       " ('spark.app.startTime', '1729435710016'),\n",
       " ('spark.driver.host', 'f11526fd661e'),\n",
       " ('spark.master', 'spark://spark-master:7077'),\n",
       " ('spark.serializer.objectStreamReset', '100'),\n",
       " ('spark.app.initial.jar.urls',\n",
       "  'spark://f11526fd661e:43603/jars/com.amazonaws_aws-java-sdk-bundle-1.12.262.jar,spark://f11526fd661e:43603/jars/org.apache.hadoop_hadoop-aws-3.3.4.jar,spark://f11526fd661e:43603/jars/io.delta_delta-core_2.12-2.4.0.jar,spark://f11526fd661e:43603/jars/org.antlr_antlr4-runtime-4.9.3.jar,spark://f11526fd661e:43603/jars/org.wildfly.openssl_wildfly-openssl-1.0.7.Final.jar,spark://f11526fd661e:43603/jars/io.delta_delta-storage-2.4.0.jar'),\n",
       " ('spark.app.name', 'MyAppMinio'),\n",
       " ('spark.submit.deployMode', 'client'),\n",
       " ('spark.sql.warehouse.dir', 'file:/home/jovyan/work/spark-warehouse'),\n",
       " ('spark.app.submitTime', '1729435709842'),\n",
       " ('spark.executor.extraJavaOptions',\n",
       "  '-Djava.net.preferIPv6Addresses=false -XX:+IgnoreUnrecognizedVMOptions --add-opens=java.base/java.lang=ALL-UNNAMED --add-opens=java.base/java.lang.invoke=ALL-UNNAMED --add-opens=java.base/java.lang.reflect=ALL-UNNAMED --add-opens=java.base/java.io=ALL-UNNAMED --add-opens=java.base/java.net=ALL-UNNAMED --add-opens=java.base/java.nio=ALL-UNNAMED --add-opens=java.base/java.util=ALL-UNNAMED --add-opens=java.base/java.util.concurrent=ALL-UNNAMED --add-opens=java.base/java.util.concurrent.atomic=ALL-UNNAMED --add-opens=java.base/sun.nio.ch=ALL-UNNAMED --add-opens=java.base/sun.nio.cs=ALL-UNNAMED --add-opens=java.base/sun.security.action=ALL-UNNAMED --add-opens=java.base/sun.util.calendar=ALL-UNNAMED --add-opens=java.security.jgss/sun.security.krb5=ALL-UNNAMED -Djdk.reflect.useDirectMethodHandle=false'),\n",
       " ('spark.executor.id', 'driver'),\n",
       " ('spark.submit.pyFiles',\n",
       "  '/home/jovyan/.ivy2/jars/org.apache.hadoop_hadoop-aws-3.3.4.jar,/home/jovyan/.ivy2/jars/io.delta_delta-core_2.12-2.4.0.jar,/home/jovyan/.ivy2/jars/com.amazonaws_aws-java-sdk-bundle-1.12.262.jar,/home/jovyan/.ivy2/jars/org.wildfly.openssl_wildfly-openssl-1.0.7.Final.jar,/home/jovyan/.ivy2/jars/io.delta_delta-storage-2.4.0.jar,/home/jovyan/.ivy2/jars/org.antlr_antlr4-runtime-4.9.3.jar'),\n",
       " ('log4j.rootCategory', 'INFO, console'),\n",
       " ('spark.sql.extensions', 'io.delta.sql.DeltaSparkSessionExtension'),\n",
       " ('spark.jars.packages',\n",
       "  'org.apache.hadoop:hadoop-aws:3.3.4,io.delta:delta-core_2.12:2.4.0'),\n",
       " ('spark.rdd.compress', 'True'),\n",
       " ('spark.repl.local.jars',\n",
       "  'file:///home/jovyan/.ivy2/jars/org.apache.hadoop_hadoop-aws-3.3.4.jar,file:///home/jovyan/.ivy2/jars/io.delta_delta-core_2.12-2.4.0.jar,file:///home/jovyan/.ivy2/jars/com.amazonaws_aws-java-sdk-bundle-1.12.262.jar,file:///home/jovyan/.ivy2/jars/org.wildfly.openssl_wildfly-openssl-1.0.7.Final.jar,file:///home/jovyan/.ivy2/jars/io.delta_delta-storage-2.4.0.jar,file:///home/jovyan/.ivy2/jars/org.antlr_antlr4-runtime-4.9.3.jar'),\n",
       " ('spark.ui.showConsoleProgress', 'true'),\n",
       " ('spark.sql.catalog.spark_catalog',\n",
       "  'org.apache.spark.sql.delta.catalog.DeltaCatalog')]"
      ]
     },
     "execution_count": 6,
     "metadata": {},
     "output_type": "execute_result"
    }
   ],
   "source": [
    "spark.sparkContext.getConf().getAll()"
   ]
  },
  {
   "cell_type": "code",
   "execution_count": 7,
   "id": "d35cc0c9-cf11-41fb-b802-9f34763e6973",
   "metadata": {},
   "outputs": [],
   "source": [
    "# sc = spark.sparkContext\n",
    "# sc._jsc.hadoopConfiguration().set(\"fs.s3a.access.key\", MINIO_ACCESS_KEY)\n",
    "# sc._jsc.hadoopConfiguration().set(\"fs.s3a.secret.key\", MINIO_SECRET_KEY)\n",
    "# sc._jsc.hadoopConfiguration().set(\"fs.s3a.endpoint\", \"http://minio:9000\")\n",
    "# sc._jsc.hadoopConfiguration().set(\"fs.s3a.path.style.access\", \"true\")\n",
    "# sc._jsc.hadoopConfiguration().set(\"fs.s3a.connection.ssl.enabled\", \"false\")\n",
    "# sc._jsc.hadoopConfiguration().set(\"fs.s3a.impl\", \"org.apache.hadoop.fs.s3a.S3AFileSystem\")\n",
    "# sc._jsc.hadoopConfiguration().set(\"log4j.logger.org.apache.hadoop.fs.s3a\", \"DEBUG\")\n",
    "\n",
    "sc = spark.sparkContext\n",
    "hadoop_conf = sc._jsc.hadoopConfiguration()\n",
    "hadoop_conf.set(\"fs.s3a.access.key\", MINIO_ACCESS_KEY)\n",
    "hadoop_conf.set(\"fs.s3a.secret.key\", MINIO_SECRET_KEY)\n",
    "hadoop_conf.set(\"fs.s3a.endpoint\", \"http://minio:9000\")\n",
    "hadoop_conf.set(\"fs.s3a.path.style.access\", \"true\")\n",
    "hadoop_conf.set(\"fs.s3a.connection.ssl.enabled\", \"false\")"
   ]
  },
  {
   "cell_type": "markdown",
   "id": "3ff7060a-325b-45d4-b595-9f07733bb9e0",
   "metadata": {},
   "source": [
    "## Teste conexão do ambiente do Jupyter com MINIO"
   ]
  },
  {
   "cell_type": "code",
   "execution_count": 8,
   "id": "23a9f269-bbe0-4521-a3f3-13fa175a1fdc",
   "metadata": {},
   "outputs": [
    {
     "name": "stdout",
     "output_type": "stream",
     "text": [
      "bronze\n",
      "gold\n",
      "silver\n",
      "stage\n"
     ]
    }
   ],
   "source": [
    "client = Minio(\n",
    "    \"minio:9000\",\n",
    "    access_key=MINIO_ACCESS_KEY,\n",
    "    secret_key=MINIO_SECRET_KEY,\n",
    "    secure=False\n",
    ")\n",
    "\n",
    "for b in client.list_buckets():\n",
    "    print(b)"
   ]
  },
  {
   "cell_type": "markdown",
   "id": "db97896d-3bf5-4886-9d63-757218dd83c9",
   "metadata": {},
   "source": [
    "## Teste a leitura do Spark com MINIO"
   ]
  },
  {
   "cell_type": "code",
   "execution_count": 9,
   "id": "92e5826b-b754-4981-9511-5d6210216817",
   "metadata": {},
   "outputs": [],
   "source": [
    "minio_bucket_stage = \"stage\"\n",
    "data_origem = f\"s3a://{minio_bucket_stage}/hotel_booking.csv\""
   ]
  },
  {
   "cell_type": "code",
   "execution_count": 10,
   "id": "9345e705-20a1-4e4b-89d4-e26b04256e92",
   "metadata": {},
   "outputs": [],
   "source": [
    "data_df = spark.read.format('csv').option('header', 'true').option('inferSchema', 'true').load(data_origem)"
   ]
  },
  {
   "cell_type": "code",
   "execution_count": 11,
   "id": "b577ad44-c117-44a7-acc3-b21722fd5880",
   "metadata": {},
   "outputs": [
    {
     "name": "stdout",
     "output_type": "stream",
     "text": [
      "root\n",
      " |-- hotel: string (nullable = true)\n",
      " |-- is_canceled: integer (nullable = true)\n",
      " |-- lead_time: integer (nullable = true)\n",
      " |-- arrival_date_year: integer (nullable = true)\n",
      " |-- arrival_date_month: string (nullable = true)\n",
      " |-- arrival_date_week_number: integer (nullable = true)\n",
      " |-- arrival_date_day_of_month: integer (nullable = true)\n",
      " |-- stays_in_weekend_nights: integer (nullable = true)\n",
      " |-- stays_in_week_nights: integer (nullable = true)\n",
      " |-- adults: integer (nullable = true)\n",
      " |-- children: double (nullable = true)\n",
      " |-- babies: integer (nullable = true)\n",
      " |-- meal: string (nullable = true)\n",
      " |-- country: string (nullable = true)\n",
      " |-- market_segment: string (nullable = true)\n",
      " |-- distribution_channel: string (nullable = true)\n",
      " |-- is_repeated_guest: integer (nullable = true)\n",
      " |-- previous_cancellations: integer (nullable = true)\n",
      " |-- previous_bookings_not_canceled: integer (nullable = true)\n",
      " |-- reserved_room_type: string (nullable = true)\n",
      " |-- assigned_room_type: string (nullable = true)\n",
      " |-- booking_changes: integer (nullable = true)\n",
      " |-- deposit_type: string (nullable = true)\n",
      " |-- agent: double (nullable = true)\n",
      " |-- company: double (nullable = true)\n",
      " |-- days_in_waiting_list: integer (nullable = true)\n",
      " |-- customer_type: string (nullable = true)\n",
      " |-- adr: double (nullable = true)\n",
      " |-- required_car_parking_spaces: integer (nullable = true)\n",
      " |-- total_of_special_requests: integer (nullable = true)\n",
      " |-- reservation_status: string (nullable = true)\n",
      " |-- reservation_status_date: date (nullable = true)\n",
      " |-- name: string (nullable = true)\n",
      " |-- email: string (nullable = true)\n",
      " |-- phone-number: string (nullable = true)\n",
      " |-- credit_card: string (nullable = true)\n",
      "\n"
     ]
    }
   ],
   "source": [
    "data_df.printSchema()"
   ]
  },
  {
   "cell_type": "code",
   "execution_count": 12,
   "id": "b72f96ee-f9bd-43fb-92ed-88c3b1815d9d",
   "metadata": {},
   "outputs": [
    {
     "name": "stdout",
     "output_type": "stream",
     "text": [
      "+------------+--------+-------+\n",
      "|hotel       |children|country|\n",
      "+------------+--------+-------+\n",
      "|Resort Hotel|0.0     |PRT    |\n",
      "|Resort Hotel|0.0     |PRT    |\n",
      "|Resort Hotel|0.0     |GBR    |\n",
      "|Resort Hotel|0.0     |GBR    |\n",
      "|Resort Hotel|0.0     |GBR    |\n",
      "|Resort Hotel|0.0     |GBR    |\n",
      "|Resort Hotel|0.0     |PRT    |\n",
      "|Resort Hotel|0.0     |PRT    |\n",
      "|Resort Hotel|0.0     |PRT    |\n",
      "|Resort Hotel|0.0     |PRT    |\n",
      "+------------+--------+-------+\n",
      "\n"
     ]
    }
   ],
   "source": [
    "data_df.select(['hotel', 'children', 'country']).limit(10).show(truncate=False)"
   ]
  },
  {
   "cell_type": "code",
   "execution_count": 13,
   "id": "3914924b-8ebe-44b8-912e-4f990295279c",
   "metadata": {},
   "outputs": [
    {
     "name": "stdout",
     "output_type": "stream",
     "text": [
      "CPU times: user 406 µs, sys: 4.72 ms, total: 5.12 ms\n",
      "Wall time: 667 ms\n"
     ]
    },
    {
     "data": {
      "text/plain": [
       "119390"
      ]
     },
     "execution_count": 13,
     "metadata": {},
     "output_type": "execute_result"
    }
   ],
   "source": [
    "%%time\n",
    "data_df.count()"
   ]
  },
  {
   "cell_type": "markdown",
   "id": "55d08879-ebe3-49d7-92a4-d9f216693f83",
   "metadata": {},
   "source": [
    "## Teste de escrita no MINIO utilizando o Spark"
   ]
  },
  {
   "cell_type": "code",
   "execution_count": 14,
   "id": "1014ccfb-3823-4f8b-8a76-6de370d71be6",
   "metadata": {},
   "outputs": [],
   "source": [
    "# Exemplo de gravação em um bucket MinIO\n",
    "df = spark.createDataFrame([(1, \"apple\"), (2, \"banana\"), (3, \"laranja\")], [\"id\", \"fruit\"])\n",
    "df.write.format(\"parquet\").mode(\"overwrite\").save(\"s3a://bronze/test/data.parquet\")"
   ]
  },
  {
   "cell_type": "code",
   "execution_count": 15,
   "id": "db1bdf58-a454-4d60-918a-70f51ff7422e",
   "metadata": {},
   "outputs": [
    {
     "name": "stdout",
     "output_type": "stream",
     "text": [
      "+---+-------+\n",
      "| id|  fruit|\n",
      "+---+-------+\n",
      "|  3|laranja|\n",
      "|  2| banana|\n",
      "|  1|  apple|\n",
      "+---+-------+\n",
      "\n"
     ]
    }
   ],
   "source": [
    "# Lendo de volta\n",
    "df_loaded = spark.read.format(\"parquet\").load(\"s3a://bronze/test/data.parquet\")\n",
    "df_loaded.show()"
   ]
  },
  {
   "cell_type": "markdown",
   "id": "78e58c8c-1a35-4c2e-86a0-cfe677a375d6",
   "metadata": {},
   "source": [
    "## Escrevendo nossa primeira Delta Table!"
   ]
  },
  {
   "cell_type": "code",
   "execution_count": 16,
   "id": "29f6c0e8-ad0e-49cd-8f7a-4420f47c2e4e",
   "metadata": {},
   "outputs": [],
   "source": [
    "minio_bucket_bronze = \"bronze\""
   ]
  },
  {
   "cell_type": "code",
   "execution_count": 17,
   "id": "5c7f72ff-752d-4197-b495-dd79a5a0e4e8",
   "metadata": {},
   "outputs": [],
   "source": [
    "# Exemplo de gravação em um bucket MinIO\n",
    "df = spark.createDataFrame([(1, \"apple\"), (2, \"banana\"), (3, \"laranja\")], [\"id\", \"fruit\"])"
   ]
  },
  {
   "cell_type": "code",
   "execution_count": 18,
   "id": "582f629b-fff8-4895-89ae-6145c4dca9a0",
   "metadata": {},
   "outputs": [],
   "source": [
    "df = df.withColumn('anomesdia', date_format(current_date(), 'yyyy-MM-dd'))"
   ]
  },
  {
   "cell_type": "code",
   "execution_count": 19,
   "id": "aab23e98-0df7-4114-b448-8df9581ec63c",
   "metadata": {},
   "outputs": [
    {
     "name": "stdout",
     "output_type": "stream",
     "text": [
      "root\n",
      " |-- id: long (nullable = true)\n",
      " |-- fruit: string (nullable = true)\n",
      " |-- anomesdia: string (nullable = false)\n",
      "\n"
     ]
    }
   ],
   "source": [
    "df.printSchema()"
   ]
  },
  {
   "cell_type": "code",
   "execution_count": 20,
   "id": "89ef9312-2718-42a6-b89f-d33fd46daf12",
   "metadata": {},
   "outputs": [],
   "source": [
    "# Gravação no formato Delta\n",
    "df \\\n",
    "    .write \\\n",
    "    .format(\"delta\") \\\n",
    "    .partitionBy(\"anomesdia\") \\\n",
    "    .mode(\"overwrite\") \\\n",
    "    .save(f\"s3a://{minio_bucket_bronze}/test\")"
   ]
  },
  {
   "cell_type": "code",
   "execution_count": 21,
   "id": "c7bda124-4f87-4284-8e56-f8cf955d02ea",
   "metadata": {},
   "outputs": [],
   "source": [
    "data_df = data_df.withColumn('anomesdia', date_format(current_date(), 'yyyy-MM-dd'))"
   ]
  },
  {
   "cell_type": "code",
   "execution_count": 22,
   "id": "324b7e26-a4ae-488d-a78e-5690b967d114",
   "metadata": {},
   "outputs": [
    {
     "name": "stdout",
     "output_type": "stream",
     "text": [
      "root\n",
      " |-- hotel: string (nullable = true)\n",
      " |-- is_canceled: integer (nullable = true)\n",
      " |-- lead_time: integer (nullable = true)\n",
      " |-- arrival_date_year: integer (nullable = true)\n",
      " |-- arrival_date_month: string (nullable = true)\n",
      " |-- arrival_date_week_number: integer (nullable = true)\n",
      " |-- arrival_date_day_of_month: integer (nullable = true)\n",
      " |-- stays_in_weekend_nights: integer (nullable = true)\n",
      " |-- stays_in_week_nights: integer (nullable = true)\n",
      " |-- adults: integer (nullable = true)\n",
      " |-- children: double (nullable = true)\n",
      " |-- babies: integer (nullable = true)\n",
      " |-- meal: string (nullable = true)\n",
      " |-- country: string (nullable = true)\n",
      " |-- market_segment: string (nullable = true)\n",
      " |-- distribution_channel: string (nullable = true)\n",
      " |-- is_repeated_guest: integer (nullable = true)\n",
      " |-- previous_cancellations: integer (nullable = true)\n",
      " |-- previous_bookings_not_canceled: integer (nullable = true)\n",
      " |-- reserved_room_type: string (nullable = true)\n",
      " |-- assigned_room_type: string (nullable = true)\n",
      " |-- booking_changes: integer (nullable = true)\n",
      " |-- deposit_type: string (nullable = true)\n",
      " |-- agent: double (nullable = true)\n",
      " |-- company: double (nullable = true)\n",
      " |-- days_in_waiting_list: integer (nullable = true)\n",
      " |-- customer_type: string (nullable = true)\n",
      " |-- adr: double (nullable = true)\n",
      " |-- required_car_parking_spaces: integer (nullable = true)\n",
      " |-- total_of_special_requests: integer (nullable = true)\n",
      " |-- reservation_status: string (nullable = true)\n",
      " |-- reservation_status_date: date (nullable = true)\n",
      " |-- name: string (nullable = true)\n",
      " |-- email: string (nullable = true)\n",
      " |-- phone-number: string (nullable = true)\n",
      " |-- credit_card: string (nullable = true)\n",
      " |-- anomesdia: string (nullable = false)\n",
      "\n"
     ]
    }
   ],
   "source": [
    "data_df.printSchema()"
   ]
  },
  {
   "cell_type": "code",
   "execution_count": 23,
   "id": "44f4a1ce-743b-49de-8104-38738925667e",
   "metadata": {},
   "outputs": [],
   "source": [
    "# Gravação no formato Delta\n",
    "data_df.write.format(\"delta\") \\\n",
    "    .partitionBy(\"anomesdia\") \\\n",
    "    .mode(\"overwrite\") \\\n",
    "    .save(f\"s3a://{minio_bucket_bronze}/delta\")"
   ]
  },
  {
   "cell_type": "code",
   "execution_count": 24,
   "id": "527e4b33-a43f-4746-a307-f3f2d77b2702",
   "metadata": {},
   "outputs": [],
   "source": [
    "df_delta = spark.read.format('delta').load(f\"s3a://{minio_bucket_bronze}/delta\")"
   ]
  },
  {
   "cell_type": "code",
   "execution_count": 25,
   "id": "5d8b2558-b45f-4c76-9967-372a71862a28",
   "metadata": {},
   "outputs": [
    {
     "name": "stdout",
     "output_type": "stream",
     "text": [
      "CPU times: user 602 µs, sys: 3.09 ms, total: 3.69 ms\n",
      "Wall time: 738 ms\n"
     ]
    },
    {
     "data": {
      "text/plain": [
       "119390"
      ]
     },
     "execution_count": 25,
     "metadata": {},
     "output_type": "execute_result"
    }
   ],
   "source": [
    "%%time\n",
    "df_delta.count()"
   ]
  },
  {
   "cell_type": "code",
   "execution_count": 26,
   "id": "76893e23-2462-42b6-90d3-b7eb1160ffc6",
   "metadata": {},
   "outputs": [],
   "source": [
    "# Criar um objeto DeltaTable\n",
    "delta_table = DeltaTable.forPath(spark, f\"s3a://{minio_bucket_bronze}/delta\")"
   ]
  },
  {
   "cell_type": "code",
   "execution_count": 27,
   "id": "6b697e9a-f8b3-4d5e-a9cd-2dec9c19a99b",
   "metadata": {},
   "outputs": [
    {
     "name": "stderr",
     "output_type": "stream",
     "text": [
      "/usr/local/spark/python/pyspark/sql/pandas/conversion.py:251: FutureWarning: Passing unit-less datetime64 dtype to .astype is deprecated and will raise in a future version. Pass 'datetime64[ns]' instead\n",
      "  series = series.astype(t, copy=False)\n"
     ]
    },
    {
     "data": {
      "text/html": [
       "<div>\n",
       "<style scoped>\n",
       "    .dataframe tbody tr th:only-of-type {\n",
       "        vertical-align: middle;\n",
       "    }\n",
       "\n",
       "    .dataframe tbody tr th {\n",
       "        vertical-align: top;\n",
       "    }\n",
       "\n",
       "    .dataframe thead th {\n",
       "        text-align: right;\n",
       "    }\n",
       "</style>\n",
       "<table border=\"1\" class=\"dataframe\">\n",
       "  <thead>\n",
       "    <tr style=\"text-align: right;\">\n",
       "      <th></th>\n",
       "      <th>version</th>\n",
       "      <th>timestamp</th>\n",
       "      <th>userId</th>\n",
       "      <th>userName</th>\n",
       "      <th>operation</th>\n",
       "      <th>operationParameters</th>\n",
       "      <th>job</th>\n",
       "      <th>notebook</th>\n",
       "      <th>clusterId</th>\n",
       "      <th>readVersion</th>\n",
       "      <th>isolationLevel</th>\n",
       "      <th>isBlindAppend</th>\n",
       "      <th>operationMetrics</th>\n",
       "      <th>userMetadata</th>\n",
       "      <th>engineInfo</th>\n",
       "    </tr>\n",
       "  </thead>\n",
       "  <tbody>\n",
       "    <tr>\n",
       "      <th>0</th>\n",
       "      <td>1</td>\n",
       "      <td>2024-10-20 14:50:18</td>\n",
       "      <td>None</td>\n",
       "      <td>None</td>\n",
       "      <td>WRITE</td>\n",
       "      <td>{'mode': 'Overwrite', 'partitionBy': '[\"anomes...</td>\n",
       "      <td>None</td>\n",
       "      <td>None</td>\n",
       "      <td>None</td>\n",
       "      <td>0.0</td>\n",
       "      <td>Serializable</td>\n",
       "      <td>False</td>\n",
       "      <td>{'numOutputRows': '119390', 'numOutputBytes': ...</td>\n",
       "      <td>None</td>\n",
       "      <td>Apache-Spark/3.4.1 Delta-Lake/2.4.0</td>\n",
       "    </tr>\n",
       "    <tr>\n",
       "      <th>1</th>\n",
       "      <td>0</td>\n",
       "      <td>2024-10-20 14:27:33</td>\n",
       "      <td>None</td>\n",
       "      <td>None</td>\n",
       "      <td>WRITE</td>\n",
       "      <td>{'mode': 'Overwrite', 'partitionBy': '[\"anomes...</td>\n",
       "      <td>None</td>\n",
       "      <td>None</td>\n",
       "      <td>None</td>\n",
       "      <td>NaN</td>\n",
       "      <td>Serializable</td>\n",
       "      <td>False</td>\n",
       "      <td>{'numOutputRows': '119390', 'numOutputBytes': ...</td>\n",
       "      <td>None</td>\n",
       "      <td>Apache-Spark/3.4.1 Delta-Lake/2.4.0</td>\n",
       "    </tr>\n",
       "  </tbody>\n",
       "</table>\n",
       "</div>"
      ],
      "text/plain": [
       "   version           timestamp userId userName operation  \\\n",
       "0        1 2024-10-20 14:50:18   None     None     WRITE   \n",
       "1        0 2024-10-20 14:27:33   None     None     WRITE   \n",
       "\n",
       "                                 operationParameters   job notebook clusterId  \\\n",
       "0  {'mode': 'Overwrite', 'partitionBy': '[\"anomes...  None     None      None   \n",
       "1  {'mode': 'Overwrite', 'partitionBy': '[\"anomes...  None     None      None   \n",
       "\n",
       "   readVersion isolationLevel  isBlindAppend  \\\n",
       "0          0.0   Serializable          False   \n",
       "1          NaN   Serializable          False   \n",
       "\n",
       "                                    operationMetrics userMetadata  \\\n",
       "0  {'numOutputRows': '119390', 'numOutputBytes': ...         None   \n",
       "1  {'numOutputRows': '119390', 'numOutputBytes': ...         None   \n",
       "\n",
       "                            engineInfo  \n",
       "0  Apache-Spark/3.4.1 Delta-Lake/2.4.0  \n",
       "1  Apache-Spark/3.4.1 Delta-Lake/2.4.0  "
      ]
     },
     "execution_count": 27,
     "metadata": {},
     "output_type": "execute_result"
    }
   ],
   "source": [
    "# Consultar o histórico da tabela\n",
    "history_df = delta_table.history()\n",
    "history_df.toPandas().head()"
   ]
  },
  {
   "cell_type": "code",
   "execution_count": 28,
   "id": "2e9bb695-e077-4a96-a865-d8eaa2865182",
   "metadata": {},
   "outputs": [],
   "source": [
    "spark.stop()"
   ]
  },
  {
   "cell_type": "code",
   "execution_count": null,
   "id": "c20ad910-99f1-4c05-9bb8-3e3e26b3a7b7",
   "metadata": {},
   "outputs": [],
   "source": []
  }
 ],
 "metadata": {
  "kernelspec": {
   "display_name": "Python 3 (ipykernel)",
   "language": "python",
   "name": "python3"
  },
  "language_info": {
   "codemirror_mode": {
    "name": "ipython",
    "version": 3
   },
   "file_extension": ".py",
   "mimetype": "text/x-python",
   "name": "python",
   "nbconvert_exporter": "python",
   "pygments_lexer": "ipython3",
   "version": "3.11.5"
  }
 },
 "nbformat": 4,
 "nbformat_minor": 5
}
